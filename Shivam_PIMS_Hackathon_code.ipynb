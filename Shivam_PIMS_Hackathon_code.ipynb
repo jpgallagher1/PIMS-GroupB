{
 "cells": [
  {
   "cell_type": "code",
   "execution_count": 1,
   "id": "2b61e983",
   "metadata": {},
   "outputs": [],
   "source": [
    "import numpy as np\n",
    "from numpy.polynomial.legendre import Legendre"
   ]
  },
  {
   "cell_type": "code",
   "execution_count": 2,
   "id": "31c14761",
   "metadata": {},
   "outputs": [],
   "source": [
    "def gausslegendre(N):\n",
    "    points, weights = np.polynomial.legendre.leggauss(N)\n",
    "    return points, weights"
   ]
  },
  {
   "cell_type": "code",
   "execution_count": 3,
   "id": "9fe3bdf1",
   "metadata": {},
   "outputs": [],
   "source": [
    "def gausslobatto(N):\n",
    "    x = np.zeros(N)\n",
    "    x[0] = -1.0\n",
    "    x[-1] = 1.0\n",
    "\n",
    "    Pn_1 = Legendre.basis(N-1)\n",
    "    dPn_1 = Pn_1.deriv()\n",
    "    x[1:-1] = np.sort(dPn_1.roots())\n",
    "\n",
    "    # Compute weights\n",
    "    w = np.zeros(N)\n",
    "    for i in range(N):\n",
    "        xi = x[i]\n",
    "        Pn_1_val = Pn_1(xi)\n",
    "        w[i] = 2.0 / (N * (N-1) * (Pn_1_val**2))\n",
    "    return x, w"
   ]
  },
  {
   "cell_type": "code",
   "execution_count": 4,
   "id": "176bb930",
   "metadata": {},
   "outputs": [],
   "source": [
    "def eval_pk(x, i, nodes):\n",
    "    # Compute the i-th Lagrange basis polynomial at x\n",
    "    xi = nodes[i]\n",
    "    terms = [(x - nodes[j])/(xi - nodes[j]) for j in range(len(nodes)) if j != i]\n",
    "    return np.prod(terms, axis=0)"
   ]
  },
  {
   "cell_type": "code",
   "execution_count": 5,
   "id": "a9780faf",
   "metadata": {},
   "outputs": [],
   "source": [
    "def eval_pk_deriv(x, i, nodes):\n",
    "    n = len(nodes)\n",
    "    xi = nodes[i]\n",
    "    result = 0.0\n",
    "    for j in range(n):\n",
    "        if j == i:\n",
    "            continue\n",
    "        xj = nodes[j]\n",
    "        term = 1.0 / (xi - xj)\n",
    "        for k in range(n):\n",
    "            if k == i or k == j:\n",
    "                continue\n",
    "            term *= (x - nodes[k]) / (xi - nodes[k])\n",
    "        result += term\n",
    "    return result"
   ]
  },
  {
   "cell_type": "code",
   "execution_count": null,
   "id": "77876608",
   "metadata": {},
   "outputs": [],
   "source": [
    "def compute_mass_matrix(sigma_t,a,b,Np):\n",
    "    # y_quad, w_quad = gausslobatto(Np)\n",
    "    # h = b-a\n",
    "    # y = (h/2)*y_quad + (a+b)/2\n",
    "    # M_e = np.zeros((Np,Np))\n",
    "    # M_e = (h/2)*np.dot(sigma_t(y),np.diag(w_quad))\n",
    "\n",
    "    nodes, _ = gausslegendre(Np)\n",
    "    y_quad, w_quad = gausslobatto(2*Np)\n",
    "    h = b-a\n",
    "    M_e = np.zeros((Np,Np))\n",
    "    for m in range(Np):\n",
    "        for n in range(Np):\n",
    "            for i in range(len(y_quad)):\n",
    "                M_e[m,n]+= w_quad[i]*sigma_t(y_quad[i])*eval_pk(y_quad[i],m,nodes)*eval_pk(y_quad[i],n,nodes)\n",
    "    return (h/2)*M_e"
   ]
  },
  {
   "cell_type": "code",
   "execution_count": 7,
   "id": "0f5bbeb1",
   "metadata": {},
   "outputs": [],
   "source": [
    "def assemble_mass_matrix(sigma_t, Np, xs):\n",
    "    Ne = len(xs) - 1\n",
    "    M = np.zeros((Np*Ne, Np*Ne))\n",
    "    for je in range(Ne):\n",
    "        M_local = compute_mass_matrix(sigma_t, xs[je], xs[je+1], Np)\n",
    "        for n in range(Np):\n",
    "            for m in range(Np):\n",
    "                M[je*Np + m, je*Np + n] = M_local[m, n]\n",
    "    return M"
   ]
  },
  {
   "cell_type": "code",
   "execution_count": null,
   "id": "49dadacb",
   "metadata": {},
   "outputs": [],
   "source": [
    "def compute_deriv_matrix(a,b,Np):\n",
    "\n",
    "    nodes, _ = gausslegendre(Np)\n",
    "    y_quad, w_quad = gausslobatto(2*Np)\n",
    "    h = b-a\n",
    "    G_e = np.zeros((Np,Np))\n",
    "    for m in range(Np):\n",
    "        for n in range(Np):\n",
    "            for i in range(len(y_quad)):\n",
    "                G_e[m,n]+= w_quad[i]*eval_pk(y_quad[i],m,nodes)*eval_pk_deriv(y_quad[i],n,nodes)\n",
    "    return (h/2)*G_e"
   ]
  },
  {
   "cell_type": "code",
   "execution_count": 9,
   "id": "17247727",
   "metadata": {},
   "outputs": [],
   "source": [
    "def assemble_deriv_matrix(Np, xs):\n",
    "    Ne = len(xs) - 1\n",
    "    M = np.zeros((Np*Ne, Np*Ne))\n",
    "    for je in range(Ne):\n",
    "        M_local = compute_deriv_matrix(xs[je], xs[je+1], Np)\n",
    "        for n in range(Np):\n",
    "            for m in range(Np):\n",
    "                M[je*Np + m, je*Np + n] = M_local[m, n]\n",
    "    return M"
   ]
  },
  {
   "cell_type": "code",
   "execution_count": null,
   "id": "20b7c87d",
   "metadata": {},
   "outputs": [],
   "source": []
  },
  {
   "cell_type": "code",
   "execution_count": null,
   "id": "258ecb97",
   "metadata": {},
   "outputs": [],
   "source": [
    "def assemble_face_matrices(Np, xs, for_TSA=False):\n",
    "    Ne = len(xs) - 1\n",
    "    mus, ws = gausslobatto(Np)\n",
    "    M_plus = np.zeros((Np*Ne, Np*Ne))\n",
    "    M_minus = np.zeros((Np*Ne, Np*Ne))\n",
    "    pk0 = np.zeros(Np)\n",
    "    pk1 = np.zeros(Np)\n",
    "    \n",
    "    for n in range(Np):\n",
    "        pk0[n] = eval_pk(-1.0, n, mus)\n",
    "        pk1[n] = eval_pk(1.0, n, mus)\n",
    "    \n",
    "    # Interior faces\n",
    "    for je in range(1, Ne-1):\n",
    "        for n in range(Np):\n",
    "            for m in range(Np):\n",
    "                M_plus[je*Np + m, je*Np + n] = pk1[m] * pk1[n]\n",
    "                M_plus[je*Np + m, (je-1)*Np + n] = -pk0[m] * pk1[n]\n",
    "                M_minus[je*Np + m, (je+1)*Np + n] = pk1[m] * pk0[n]\n",
    "                M_minus[je*Np + m, je*Np + n] = -pk0[m] * pk0[n]\n",
    "    \n",
    "    # Left boundary\n",
    "    je = 0\n",
    "    for n in range(Np):\n",
    "        for m in range(Np):\n",
    "            M_plus[je*Np + m, je*Np + n] = pk1[m] * pk1[n]\n",
    "            if for_TSA:\n",
    "                M_plus[je*Np + m, je*Np + n] -= pk0[m] * pk0[n]\n",
    "            M_minus[je*Np + m, (je+1)*Np + n] = pk1[m] * pk0[n]\n",
    "            M_minus[je*Np + m, je*Np + n] = -pk0[m] * pk0[n]\n",
    "    \n",
    "    # Right boundary\n",
    "    je = Ne-1\n",
    "    for n in range(Np):\n",
    "        for m in range(Np):\n",
    "            M_plus[je*Np + m, je*Np + n] = pk1[m] * pk1[n]\n",
    "            M_plus[je*Np + m, (je-1)*Np + n] = -pk0[m] * pk1[n]\n",
    "            M_minus[je*Np + m, je*Np + n] = -pk0[m] * pk0[n]\n",
    "            if for_TSA:\n",
    "                M_minus[je*Np + m, je*Np + n] += pk1[m] * pk1[n]\n",
    "    \n",
    "    return M_plus, M_minus"
   ]
  },
  {
   "cell_type": "code",
   "execution_count": null,
   "id": "4762d7c9",
   "metadata": {},
   "outputs": [],
   "source": [
    "def compute_inflow_term_plus(inflow, Np, xs):\n",
    "    Ne = len(xs) - 1\n",
    "    mus, ws = gausslobatto(Np)\n",
    "    qs = np.zeros(Ne*Np)\n",
    "    je = 0\n",
    "    for m in range(Np):\n",
    "        qs[je*Np + m] = inflow(xs[0]) * eval_pk(-1.0, m, mus)\n",
    "    return qs"
   ]
  },
  {
   "cell_type": "code",
   "execution_count": null,
   "id": "2ca2e5fb",
   "metadata": {},
   "outputs": [],
   "source": [
    "def compute_inflow_term_minus(inflow, Np, xs):\n",
    "    Ne = len(xs) - 1\n",
    "    mus, ws = gausslobatto(Np)\n",
    "    qs = np.zeros(Ne*Np)\n",
    "    je = Ne-1\n",
    "    for m in range(Np):\n",
    "        qs[je*Np + m] = inflow(xs[-1]) * eval_pk(1.0, m, mus)\n",
    "    return qs"
   ]
  },
  {
   "cell_type": "code",
   "execution_count": null,
   "id": "39b9036f",
   "metadata": {},
   "outputs": [],
   "source": [
    "def compute_source_term(source, Np, xs):\n",
    "    Ne = len(xs) - 1\n",
    "    s, ws = gausslobatto(Np)  # Interpolation points and weights\n",
    "    s2, ws2 = gausslegendre(3*Np)  # For integration\n",
    "    qs = np.zeros(Ne * Np)\n",
    "    for je in range(Ne):\n",
    "        a = xs[je]\n",
    "        b = xs[je + 1]\n",
    "        for m in range(Np):\n",
    "            val = 0.0\n",
    "            for k in range(len(s2)):\n",
    "                x = s2[k]\n",
    "                # Map from reference [-1,1] to [a,b]\n",
    "                y = b * (x + 1) / 2 + a * (1 - x) / 2\n",
    "                val += ws2[k] * eval_pk(x, m, s) * source(y)\n",
    "            qs[je * Np + m] = (b - a) / 2.0 * val\n",
    "    return qs"
   ]
  },
  {
   "cell_type": "code",
   "execution_count": null,
   "id": "668fa206",
   "metadata": {},
   "outputs": [],
   "source": [
    "def transport_direct_solve_plus(mu, sigma_t, qs, inflow, Np, xs):\n",
    "    Ne = len(xs) - 1\n",
    "    mus, ws = gausslobatto(Np)\n",
    "    qs_inflow = compute_inflow_term_plus(inflow, Np, xs)\n",
    "    F_plus, F_minus = assemble_face_matrices(Np, xs)\n",
    "    G = assemble_deriv_matrix(Np, xs)\n",
    "    M = assemble_mass_matrix(sigma_t, Np, xs)\n",
    "    A = -mu * G + mu * F_plus + M\n",
    "    qs += mu * qs_inflow\n",
    "    psi = np.linalg.solve(A, qs)\n",
    "    return psi"
   ]
  },
  {
   "cell_type": "code",
   "execution_count": null,
   "id": "63c57cb6",
   "metadata": {},
   "outputs": [],
   "source": [
    "def transport_direct_solve_minus(mu, sigma_t, qs, inflow, Np, xs):\n",
    "    Ne = len(xs) - 1\n",
    "    mus, ws = gausslobatto(Np)\n",
    "    qs_inflow = compute_inflow_term_minus(inflow, Np, xs)\n",
    "    F_plus, F_minus = assemble_face_matrices(Np, xs)\n",
    "    G = assemble_deriv_matrix(Np, xs)\n",
    "    M = assemble_mass_matrix(sigma_t, Np, xs)\n",
    "    A = -mu * G + mu * F_minus + M\n",
    "    qs -= mu * qs_inflow\n",
    "    psi = np.linalg.solve(A, qs)\n",
    "    return psi"
   ]
  },
  {
   "cell_type": "code",
   "execution_count": null,
   "id": "ad6c3440",
   "metadata": {},
   "outputs": [],
   "source": [
    "def transport_direct_solve(mu, sigma_t, qs, inflow, Np, xs):\n",
    "    if mu > 0:\n",
    "        psi = transport_direct_solve_plus(mu, sigma_t, qs, inflow, Np, xs)\n",
    "    else:\n",
    "        psi = transport_direct_solve_minus(abs(mu), sigma_t, qs, inflow, Np, xs)\n",
    "    return psi"
   ]
  }
 ],
 "metadata": {
  "kernelspec": {
   "display_name": "Python 3",
   "language": "python",
   "name": "python3"
  },
  "language_info": {
   "codemirror_mode": {
    "name": "ipython",
    "version": 3
   },
   "file_extension": ".py",
   "mimetype": "text/x-python",
   "name": "python",
   "nbconvert_exporter": "python",
   "pygments_lexer": "ipython3",
   "version": "3.12.7"
  }
 },
 "nbformat": 4,
 "nbformat_minor": 5
}
