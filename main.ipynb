{
 "cells": [
  {
   "cell_type": "markdown",
   "id": "5ad6a28f",
   "metadata": {},
   "source": [
    "## PIMS Hackathon, Seattle 2025\n",
    "### Project B - Preconditioners for Thermal Radiative Transfer\n",
    "Packages: jupyter, numpy, matplotlib"
   ]
  },
  {
   "cell_type": "code",
   "execution_count": null,
   "id": "8057e55b",
   "metadata": {},
   "outputs": [],
   "source": [
    "import numpy as np\n",
    "import matplotlib.pyplot as plt\n",
    "from library import *"
   ]
  },
  {
   "cell_type": "code",
   "execution_count": null,
   "id": "14cfe775",
   "metadata": {},
   "outputs": [],
   "source": [
    "# ─── Example usage (Simple DG) ───\n",
    "\n",
    "# Parameters for the transport problem\n",
    "μ      = -0.5\n",
    "ψ_MMS  = lambda x: (μ**2)*((x**2 +1) + 3.4*np.cos(2*x)) # Manufactured solution\n",
    "σ_t    = lambda x: x**2 + 1\n",
    "source = lambda x: (μ**3)*(2*x - 6.8*np.sin(2*x)) + (σ_t(x) * (μ**2)*((x**2 +1) + 3.4*np.cos(2*x)))\n",
    "inflow = lambda x: ψ_MMS(x)\n",
    "\n",
    "# Mesh parameters\n",
    "Np = 5                        # Legendre polynomials per element (basis size)\n",
    "Ne = 20\n",
    "xs = np.linspace(0, 1, Ne + 1) # Mesh points / element boundaries\n",
    "\n",
    "# Solve\n",
    "ψ_weights = transport_direct_solve(μ, σ_t, source, inflow, Np, xs)\n",
    "\n",
    "# Print the error in the solution\n",
    "print(\"L2  :\",error_Lp(ψ_weights, xs, Np, ψ_MMS, p=2))\n",
    "print(\"Linf:\",error_Lp(ψ_weights, xs, Np, ψ_MMS, p='inf'))\n",
    "\n",
    "# Plot numerical solution against the exact solution (MMS)\n",
    "plot_solution(ψ_weights, xs, Np, μ_single=μ, exact_sol=ψ_MMS)"
   ]
  },
  {
   "cell_type": "code",
   "execution_count": null,
   "id": "6d459e4d",
   "metadata": {},
   "outputs": [],
   "source": [
    "# ─── Example usage (Fixed point iteration) ───\n",
    "\n",
    "# Parameters for the transport problem\n",
    "ψ_MMS  = lambda x,μ: (μ**2)*((x**2 +1) + 3.4*np.cos(2*x)) # Manufactured solution\n",
    "σ_t    = lambda x: x**2 + 1\n",
    "σ_a    = lambda x: x**2 + 1\n",
    "ε      = 0.25\n",
    "source = lambda x,μ: (μ**3)/ε * (2*x - 6.8*np.sin(2*x)) + (σ_t(x)/ε**2 * ψ_MMS(x,μ)) \\\n",
    "                   - (σ_t(x)/ε - ε*σ_a(x)) / (3*ε) * ((x**2 +1) + 3.4*np.cos(2*x))\n",
    "inflow = lambda x,μ: ψ_MMS(x,μ)\n",
    " \n",
    "# Mesh parameters\n",
    "Np = 5                      # Legendre polynomials per element (basis size)\n",
    "Nμ = 5                      # Legendre polynomials per element (basis size)\n",
    "Nt = 30                      # Legendre polynomials per element (basis size)\n",
    "xs = np.linspace(0, 1, 26) # Mesh points / element boundaries\n",
    "Ne = len(xs) - 1\n",
    "\n",
    "# Solve\n",
    "ψ_weights_all, μs = transport_direct_solve_diffusive(σ_t, σ_a, ε, source, inflow, Np, Nμ, Nt, xs, exact_sol=ψ_MMS, tol=1e-10)\n",
    "μi = 3 # Chosen μ for the error calculation\n",
    "μc = μs[μi]\n",
    "print(\"Chosen μ:\", μc)\n",
    "\n",
    "ξ_μ, w_μ = gausslegendre(Nμ)\n",
    "φ = (w_μ.reshape((-1, 1)) * ψ_weights_all.reshape((Nμ, Ne*Np))).sum(axis=0)\n",
    "\n",
    "# Print the error in the solution\n",
    "print(\"L2  :\",error_Lp(ψ_weights_all[μi,:], xs, Np, ψ_MMS, p=2))\n",
    "print(\"Linf:\",error_Lp(ψ_weights_all[μi,:], xs, Np, ψ_MMS, p='inf'))\n",
    "\n",
    "# Plot numerical solution against the exact solution (MMS)\n",
    "%config InlineBackend.print_figure_kwargs = {'bbox_inches': None}\n",
    "plot_solution(ψ_weights_all, xs, Np, plot_3D=True, exact_sol=ψ_MMS)"
   ]
  }
 ],
 "metadata": {
  "kernelspec": {
   "display_name": "Python 3",
   "language": "python",
   "name": "python3"
  },
  "language_info": {
   "codemirror_mode": {
    "name": "ipython",
    "version": 3
   },
   "file_extension": ".py",
   "mimetype": "text/x-python",
   "name": "python",
   "nbconvert_exporter": "python",
   "pygments_lexer": "ipython3",
   "version": "3.12.11"
  }
 },
 "nbformat": 4,
 "nbformat_minor": 5
}
